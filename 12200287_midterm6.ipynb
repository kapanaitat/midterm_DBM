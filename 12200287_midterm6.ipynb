{
  "nbformat": 4,
  "nbformat_minor": 0,
  "metadata": {
    "colab": {
      "provenance": []
    },
    "kernelspec": {
      "name": "python3",
      "display_name": "Python 3"
    },
    "language_info": {
      "name": "python"
    }
  },
  "cells": [
    {
      "cell_type": "code",
      "execution_count": 65,
      "metadata": {
        "id": "8f5rvKD9ROk3"
      },
      "outputs": [],
      "source": [
        "#connecting to the databse file\n",
        "from sqlalchemy import create_engine\n",
        "my_conn = create_engine(\"sqlite:////content/my_db.db\")"
      ]
    },
    {
      "cell_type": "code",
      "source": [
        "#checking whether there are any tables in the file\n",
        "r_set = my_conn.execute('''select name from sqlite_master where type = 'table' ''')\n",
        "for row in r_set:\n",
        "  print(row)"
      ],
      "metadata": {
        "id": "70a9EEcVRqGD",
        "colab": {
          "base_uri": "https://localhost:8080/"
        },
        "outputId": "288fee3b-6a72-4b4c-8c6f-069f4de83d1b"
      },
      "execution_count": 6,
      "outputs": [
        {
          "output_type": "stream",
          "name": "stdout",
          "text": [
            "('drivers',)\n"
          ]
        }
      ]
    },
    {
      "cell_type": "code",
      "source": [
        "#deleting a table that was in the database file\n",
        "from sqlalchemy.exc import SQLAlchemyError\n",
        "try: \n",
        "  my_conn.execute('''DROP table student;''')\n",
        "  print(\"student table deleted\")\n",
        "except SQLAlchemyError as e:\n",
        "  #print(e)\n",
        "  error = str(e.__dict__['orig'])\n",
        "  print(error)"
      ],
      "metadata": {
        "colab": {
          "base_uri": "https://localhost:8080/"
        },
        "id": "1RLUTdwbSAZ8",
        "outputId": "8ed1eec1-72b2-4667-bf3a-0990ceb1e3e4"
      },
      "execution_count": 7,
      "outputs": [
        {
          "output_type": "stream",
          "name": "stdout",
          "text": [
            "no such table: student\n"
          ]
        }
      ]
    },
    {
      "cell_type": "code",
      "source": [
        "#creating a table for entity LANGUAGE \n",
        "from sqlalchemy.exc import SQLAlchemyError\n",
        "try:\n",
        "    my_conn.execute('''\n",
        "        CREATE TABLE IF NOT EXISTS language(language text primary key,\n",
        "                      l_iso3166_1_code text\n",
        "                      );''')\n",
        "    print(\"Language table is created successfully\")\n",
        "except SQLAlchemyError as e:\n",
        "\n",
        "  error = str(e.__dict__['orig'])\n",
        "  print(error)"
      ],
      "metadata": {
        "colab": {
          "base_uri": "https://localhost:8080/"
        },
        "id": "6FHd--wjSLVq",
        "outputId": "7abe0e27-d233-4e3d-ca77-a101e642d680"
      },
      "execution_count": 9,
      "outputs": [
        {
          "output_type": "stream",
          "name": "stdout",
          "text": [
            "Language table is created successfully\n"
          ]
        }
      ]
    },
    {
      "cell_type": "code",
      "source": [
        "#inserting data into the LANGUAGE table\n",
        "r_set = my_conn.execute('''INSERT INTO 'language'\n",
        "('language','l_iso3166_1_code') VALUES\n",
        "('English', 'EN'),\n",
        "('Korean', 'KR'),\n",
        "('Russian', 'RU');''')"
      ],
      "metadata": {
        "id": "DhhZUZP8TCiZ"
      },
      "execution_count": 10,
      "outputs": []
    },
    {
      "cell_type": "code",
      "source": [
        "#checking whether the table was created successfully\n",
        "r_set = my_conn.execute('''select name from sqlite_master where type = 'table' ''')\n",
        "for row in r_set:\n",
        "  print(row)"
      ],
      "metadata": {
        "colab": {
          "base_uri": "https://localhost:8080/"
        },
        "id": "ACqsCm-DToCm",
        "outputId": "bfbc93f6-a4f8-47b2-f73d-7ae73ff78dbf"
      },
      "execution_count": 11,
      "outputs": [
        {
          "output_type": "stream",
          "name": "stdout",
          "text": [
            "('drivers',)\n",
            "('language',)\n"
          ]
        }
      ]
    },
    {
      "cell_type": "code",
      "source": [
        "#creating a table for entity VEHICLE\n",
        "from sqlalchemy.exc import SQLAlchemyError\n",
        "try:\n",
        "    my_conn.execute('''\n",
        "        CREATE TABLE IF NOT EXISTS vehicle(v_id text primary key,\n",
        "                      v_registration_id text,\n",
        "                      v_manufacturer text,\n",
        "                      v_model text,\n",
        "                      v_color text,\n",
        "                      v_odometer integer,\n",
        "                      v_passanger_capacity integer\n",
        "                      );''')\n",
        "    print(\"Vehicle table is created successfully\")\n",
        "except SQLAlchemyError as e:\n",
        "\n",
        "  error = str(e.__dict__['orig'])\n",
        "  print(error)"
      ],
      "metadata": {
        "colab": {
          "base_uri": "https://localhost:8080/"
        },
        "id": "iefMsZkkVczO",
        "outputId": "154ff588-7fd2-4852-f46f-7eca785fe379"
      },
      "execution_count": 12,
      "outputs": [
        {
          "output_type": "stream",
          "name": "stdout",
          "text": [
            "Vehicle table is created successfully\n"
          ]
        }
      ]
    },
    {
      "cell_type": "code",
      "source": [
        "#inserting data into the VEHICLE table\n",
        "r_set = my_conn.execute('''INSERT INTO 'vehicle'\n",
        "('v_id','v_registration_id','v_manufacturer','v_model','v_color','v_odometer','v_passanger_capacity') VALUES\n",
        "('V1000', '2001 ABC', 'Volvo', 'XC90 SE', 'Silver', 4350, 4),\n",
        "('V1001', '2006 AFD', 'Kia', 'K7', 'Black', 2195, 4),\n",
        "('V1002', '2021 AHR', 'Tesla', '2020 F', 'White', 509, 4),\n",
        "('V1003', '2020 DFX', 'Ford', 'Transit', 'Silver', 974, 2);''')"
      ],
      "metadata": {
        "id": "0akyxThZWolY"
      },
      "execution_count": 13,
      "outputs": []
    },
    {
      "cell_type": "code",
      "source": [
        "#checking whether the table was created successfully\n",
        "r_set = my_conn.execute('''select name from sqlite_master where type = 'table' ''')\n",
        "for row in r_set:\n",
        "  print(row)"
      ],
      "metadata": {
        "colab": {
          "base_uri": "https://localhost:8080/"
        },
        "id": "oqi_PokpYbJF",
        "outputId": "c5661b2e-f062-4aae-8c02-4b9fb1960a95"
      },
      "execution_count": 14,
      "outputs": [
        {
          "output_type": "stream",
          "name": "stdout",
          "text": [
            "('drivers',)\n",
            "('language',)\n",
            "('vehicle',)\n"
          ]
        }
      ]
    },
    {
      "cell_type": "code",
      "source": [
        "#creating a table for entity REPAIR\n",
        "from sqlalchemy.exc import SQLAlchemyError\n",
        "try:\n",
        "    my_conn.execute('''\n",
        "        CREATE TABLE IF NOT EXISTS repair(r_vehicle_id primary key,\n",
        "                      r_final_cost integer,\n",
        "                      r_action text,\n",
        "                      r_date text,\n",
        "                      v_id text,\n",
        "                      v_registration_id text,\n",
        "                      v_odometer integer\n",
        "                      );''')\n",
        "    print(\"Repair table is created successfully\")\n",
        "except SQLAlchemyError as e:\n",
        "\n",
        "  error = str(e.__dict__['orig'])\n",
        "  print(error)"
      ],
      "metadata": {
        "colab": {
          "base_uri": "https://localhost:8080/"
        },
        "id": "GrxJb3JYZvFg",
        "outputId": "b0618cf3-52e4-4ebd-b43b-c37885c98a89"
      },
      "execution_count": 15,
      "outputs": [
        {
          "output_type": "stream",
          "name": "stdout",
          "text": [
            "Repair table is created successfully\n"
          ]
        }
      ]
    },
    {
      "cell_type": "code",
      "source": [
        "#inserting data into the REPAIR table\n",
        "r_set = my_conn.execute('''INSERT INTO 'repair'\n",
        "('r_vehicle_id','r_final_cost','r_action','r_date','v_registration_id', 'v_odometer') VALUES\n",
        "('V1000', 200000, 'tire replacement', '2022/09/09', '2001 ABC', 4350),\n",
        "('V1001', 100000, 'tire replacement', '2022/08/09', '2006 AFD', 2195),\n",
        "('V1002', 250000, 'tire replacement', '2022/07/09', '2021 AHR', 509),\n",
        "('V1003', 220000, 'tire replacement', '2022/02/09', '2020 DFX', 974);''')"
      ],
      "metadata": {
        "id": "22KYvcbhavGG"
      },
      "execution_count": 16,
      "outputs": []
    },
    {
      "cell_type": "code",
      "source": [
        "#checking whether the table was created successfully\n",
        "r_set = my_conn.execute('''select name from sqlite_master where type = 'table' ''')\n",
        "for row in r_set:\n",
        "  print(row)"
      ],
      "metadata": {
        "colab": {
          "base_uri": "https://localhost:8080/"
        },
        "id": "5ehXKN5ddXA5",
        "outputId": "c77811dd-6785-41e5-8a11-5f78cd2dcde1"
      },
      "execution_count": 17,
      "outputs": [
        {
          "output_type": "stream",
          "name": "stdout",
          "text": [
            "('drivers',)\n",
            "('language',)\n",
            "('vehicle',)\n",
            "('repair',)\n"
          ]
        }
      ]
    },
    {
      "cell_type": "code",
      "source": [
        "#creating a table for entity COUNTRY\n",
        "from sqlalchemy.exc import SQLAlchemyError\n",
        "try:\n",
        "    my_conn.execute('''\n",
        "        CREATE TABLE IF NOT EXISTS country(c_name text primary key,\n",
        "                      c_iso3166_code text,\n",
        "                      c_language text,\n",
        "                      language_code text\n",
        "                      );''')\n",
        "    print(\"Country table is created successfully\")\n",
        "except SQLAlchemyError as e:\n",
        "\n",
        "  error = str(e.__dict__['orig'])\n",
        "  print(error)"
      ],
      "metadata": {
        "colab": {
          "base_uri": "https://localhost:8080/"
        },
        "id": "M_HZWSphdhLk",
        "outputId": "5c6196cd-177e-491a-ed06-5d0d9c2f6973"
      },
      "execution_count": null,
      "outputs": [
        {
          "output_type": "stream",
          "name": "stdout",
          "text": [
            "Country table is created successfully\n"
          ]
        }
      ]
    },
    {
      "cell_type": "code",
      "source": [
        "#checking whether the table was created successfully\n",
        "r_set = my_conn.execute('''select name from sqlite_master where type = 'table' ''')\n",
        "for row in r_set:\n",
        "  print(row)"
      ],
      "metadata": {
        "colab": {
          "base_uri": "https://localhost:8080/"
        },
        "id": "lms9ARaOmqID",
        "outputId": "948f33f8-7303-4301-eba3-669ac08f3077"
      },
      "execution_count": 18,
      "outputs": [
        {
          "output_type": "stream",
          "name": "stdout",
          "text": [
            "('drivers',)\n",
            "('language',)\n",
            "('vehicle',)\n",
            "('repair',)\n"
          ]
        }
      ]
    },
    {
      "cell_type": "code",
      "source": [
        "#checking whether the table was created successfully\n",
        "r_set = my_conn.execute('''select name from sqlite_master where type = 'table' ''')\n",
        "for row in r_set:\n",
        "  print(row)"
      ],
      "metadata": {
        "colab": {
          "base_uri": "https://localhost:8080/"
        },
        "id": "mI-vs3yTqA6k",
        "outputId": "e05e1dce-6682-454f-8d45-522c79bf7b6f"
      },
      "execution_count": null,
      "outputs": [
        {
          "output_type": "stream",
          "name": "stdout",
          "text": [
            "('language',)\n",
            "('vehicle',)\n",
            "('vehicle1',)\n",
            "('repair',)\n"
          ]
        }
      ]
    },
    {
      "cell_type": "code",
      "source": [
        "#creating a table for entity COUNTRY\n",
        "from sqlalchemy.exc import SQLAlchemyError\n",
        "try:\n",
        "    my_conn.execute('''\n",
        "        CREATE TABLE IF NOT EXISTS country(c_name text primary key,\n",
        "                      c_iso3166_code text,\n",
        "                      c_language text,\n",
        "                      language_code text\n",
        "                      );''')\n",
        "    print(\"Country table is created successfully\")\n",
        "except SQLAlchemyError as e:\n",
        "\n",
        "  error = str(e.__dict__['orig'])\n",
        "  print(error)"
      ],
      "metadata": {
        "colab": {
          "base_uri": "https://localhost:8080/"
        },
        "id": "dK8TJf4bqD8O",
        "outputId": "8c44a9cd-79e5-409e-b838-71c2c8236e68"
      },
      "execution_count": 19,
      "outputs": [
        {
          "output_type": "stream",
          "name": "stdout",
          "text": [
            "Country table is created successfully\n"
          ]
        }
      ]
    },
    {
      "cell_type": "code",
      "source": [
        "#inserting data into the COUNTRY table\n",
        "r_set = my_conn.execute('''INSERT INTO 'country'\n",
        "('c_name','c_iso3166_code', 'c_language','language_code') VALUES\n",
        "('Korea', 'KR', 'Korean','KOR'),\n",
        "('Canada', 'CA', 'English', 'ENG'),\n",
        "('Uzbekistan', 'UZB', 'Uzbek', 'UZ');''')"
      ],
      "metadata": {
        "id": "R13MeOvIs5cu"
      },
      "execution_count": 20,
      "outputs": []
    },
    {
      "cell_type": "code",
      "source": [
        "#creating a table for entity OFFICIALS\n",
        "from sqlalchemy.exc import SQLAlchemyError\n",
        "try:\n",
        "    my_conn.execute('''\n",
        "        CREATE TABLE IF NOT EXISTS officials(of_country text primary key,\n",
        "                      of_city_id text,\n",
        "                      of_name text,\n",
        "                      of_role text,\n",
        "                      of_language text\n",
        "                      );''')\n",
        "    print(\"Officials table is created successfully\")\n",
        "except SQLAlchemyError as e:\n",
        "\n",
        "  error = str(e.__dict__['orig'])\n",
        "  print(error)"
      ],
      "metadata": {
        "colab": {
          "base_uri": "https://localhost:8080/"
        },
        "id": "fqCPU37euWy2",
        "outputId": "f36df480-c892-4211-d11d-c1f326e2cecb"
      },
      "execution_count": 21,
      "outputs": [
        {
          "output_type": "stream",
          "name": "stdout",
          "text": [
            "Officials table is created successfully\n"
          ]
        }
      ]
    },
    {
      "cell_type": "code",
      "source": [
        "#inserting data into the OFFICIALS table\n",
        "r_set = my_conn.execute('''INSERT INTO 'officials'\n",
        "('of_country','of_city_id','of_name','of_role', 'of_language') VALUES\n",
        "('Korea', 'Incheon','Brian','coach','Korean'),\n",
        "('Canada', 'Toronto', 'Ryan', 'coach', 'English'),\n",
        "('Uzbekistan', 'Tashkent', 'Tim', 'coach', 'Uzbek');''')"
      ],
      "metadata": {
        "id": "55TKo6ZhwgAk"
      },
      "execution_count": 22,
      "outputs": []
    },
    {
      "cell_type": "code",
      "source": [
        "#checking whether the table was created successfully\n",
        "r_set = my_conn.execute('''select name from sqlite_master where type = 'table' ''')\n",
        "for row in r_set:\n",
        "  print(row)"
      ],
      "metadata": {
        "colab": {
          "base_uri": "https://localhost:8080/"
        },
        "id": "Wd92KLF5yZMo",
        "outputId": "088b3b07-cf4b-4f2e-9a90-3b3df9b95736"
      },
      "execution_count": 23,
      "outputs": [
        {
          "output_type": "stream",
          "name": "stdout",
          "text": [
            "('drivers',)\n",
            "('language',)\n",
            "('vehicle',)\n",
            "('repair',)\n",
            "('country',)\n",
            "('officials',)\n"
          ]
        }
      ]
    },
    {
      "cell_type": "code",
      "source": [
        "#creating a table for entity DRIVERS\n",
        "from sqlalchemy.exc import SQLAlchemyError\n",
        "try:\n",
        "    my_conn.execute('''\n",
        "        CREATE TABLE IF NOT EXISTS drivers(d_license integer primary key,\n",
        "                      d_name text,\n",
        "                      clearance_level integer,\n",
        "                      fatl_level integer null,\n",
        "                      stlvt_level integer ,\n",
        "                      v_id text,\n",
        "                      v_availability,\n",
        "                      language_code text,\n",
        "                      b_reference_number integer\n",
        "                      );''')\n",
        "    print(\"Drivers table is created successfully\")\n",
        "except SQLAlchemyError as e:\n",
        "\n",
        "  error = str(e.__dict__['orig'])\n",
        "  print(error)"
      ],
      "metadata": {
        "colab": {
          "base_uri": "https://localhost:8080/"
        },
        "id": "IxZKbg4wzSGQ",
        "outputId": "88d426ac-8e4f-4fbe-9bc0-3ebd412fb2c7"
      },
      "execution_count": 2,
      "outputs": [
        {
          "output_type": "stream",
          "name": "stdout",
          "text": [
            "Drivers table is created successfully\n"
          ]
        }
      ]
    },
    {
      "cell_type": "code",
      "source": [
        "#inserting data into the DRIVERS table\n",
        "r_set = my_conn.execute('''INSERT INTO 'drivers'\n",
        "('d_license','d_name','clearance_level','fatl_level','stlvt_level','v_id','v_availability', 'language_code','b_reference_number') VALUES\n",
        "('111111111111111111', 'Brian',4, 10, 5, 'V1000', 'available', 'ENG', 1999),\n",
        "('111111111111111112', 'Tan', 4, 0, 0, 'V1001', 'available', 'KOR', 2000),\n",
        "('111111111111111113', 'Bran', 4, 8, 0, 'V1002', 'available', 'ENG', 2001);''')"
      ],
      "metadata": {
        "id": "jq359mFI3oxg"
      },
      "execution_count": 4,
      "outputs": []
    },
    {
      "cell_type": "code",
      "source": [
        "#checking whether the table was created successfully\n",
        "r_set = my_conn.execute('''select name from sqlite_master where type = 'table' ''')\n",
        "for row in r_set:\n",
        "  print(row)"
      ],
      "metadata": {
        "colab": {
          "base_uri": "https://localhost:8080/"
        },
        "id": "vech1EEP0VCE",
        "outputId": "c9224a96-7911-4fcb-ac08-3ec0e6e128c3"
      },
      "execution_count": 24,
      "outputs": [
        {
          "output_type": "stream",
          "name": "stdout",
          "text": [
            "('drivers',)\n",
            "('language',)\n",
            "('vehicle',)\n",
            "('repair',)\n",
            "('country',)\n",
            "('officials',)\n"
          ]
        }
      ]
    },
    {
      "cell_type": "code",
      "source": [
        "#creating a table for entity FATL\n",
        "from sqlalchemy.exc import SQLAlchemyError\n",
        "try:\n",
        "    my_conn.execute('''\n",
        "        CREATE TABLE IF NOT EXISTS fatl(fatl_level integer null primary key ,\n",
        "                      fatl_date text\n",
        "                      );''')\n",
        "    print(\"fatl table is created successfully\")\n",
        "except SQLAlchemyError as e:\n",
        "\n",
        "  error = str(e.__dict__['orig'])\n",
        "  print(error)"
      ],
      "metadata": {
        "colab": {
          "base_uri": "https://localhost:8080/"
        },
        "id": "A3v4wwcP02vW",
        "outputId": "1197cfea-a8bb-4f48-f594-2a6e5c37e2d1"
      },
      "execution_count": 29,
      "outputs": [
        {
          "output_type": "stream",
          "name": "stdout",
          "text": [
            "fatl table is created successfully\n"
          ]
        }
      ]
    },
    {
      "cell_type": "code",
      "source": [
        "#creating a table for entity STVLT\n",
        "from sqlalchemy.exc import SQLAlchemyError\n",
        "try:\n",
        "    my_conn.execute('''\n",
        "        CREATE TABLE IF NOT EXISTS stlvt(stlvt_level integer null primary key ,\n",
        "                      stlvt_date text\n",
        "                      stlvt_cert_authority\n",
        "                      );''')\n",
        "    print(\"stlvt table is created successfully\")\n",
        "except SQLAlchemyError as e:\n",
        "\n",
        "  error = str(e.__dict__['orig'])\n",
        "  print(error)"
      ],
      "metadata": {
        "colab": {
          "base_uri": "https://localhost:8080/"
        },
        "id": "YWg6szFO2D6T",
        "outputId": "65c26d2d-f0b9-46ac-c101-e8cab3d11d76"
      },
      "execution_count": 30,
      "outputs": [
        {
          "output_type": "stream",
          "name": "stdout",
          "text": [
            "stlvt table is created successfully\n"
          ]
        }
      ]
    },
    {
      "cell_type": "code",
      "source": [
        "#checking whether the table was created successfully\n",
        "r_set = my_conn.execute('''select name from sqlite_master where type = 'table' ''')\n",
        "for row in r_set:\n",
        "  print(row)"
      ],
      "metadata": {
        "colab": {
          "base_uri": "https://localhost:8080/"
        },
        "id": "gsWheJPe5QwJ",
        "outputId": "fdce2af6-a022-4447-a718-75e090126469"
      },
      "execution_count": 31,
      "outputs": [
        {
          "output_type": "stream",
          "name": "stdout",
          "text": [
            "('drivers',)\n",
            "('language',)\n",
            "('vehicle',)\n",
            "('repair',)\n",
            "('country',)\n",
            "('officials',)\n",
            "('fatl',)\n",
            "('stlvt',)\n"
          ]
        }
      ]
    },
    {
      "cell_type": "code",
      "source": [
        "#creating a table for entity PICKUP_LOCATION\n",
        "from sqlalchemy.exc import SQLAlchemyError\n",
        "try:\n",
        "    my_conn.execute('''\n",
        "        CREATE TABLE IF NOT EXISTS pick_location(p_street_city text primary key ,\n",
        "                      p_type text\n",
        "                      );''')\n",
        "    print(\"pick up location table is created successfully\")\n",
        "except SQLAlchemyError as e:\n",
        "\n",
        "  error = str(e.__dict__['orig'])\n",
        "  print(error)"
      ],
      "metadata": {
        "colab": {
          "base_uri": "https://localhost:8080/"
        },
        "id": "F0vxWqIO5VMI",
        "outputId": "be883308-0d48-4320-8434-44761f7b6642"
      },
      "execution_count": 34,
      "outputs": [
        {
          "output_type": "stream",
          "name": "stdout",
          "text": [
            "pick up location table is created successfully\n"
          ]
        }
      ]
    },
    {
      "cell_type": "markdown",
      "source": [],
      "metadata": {
        "id": "tj1aSXI96aPx"
      }
    },
    {
      "cell_type": "code",
      "source": [
        "#inserting data into the PICKUP_LOCATION table\n",
        "r_set = my_conn.execute('''INSERT INTO 'pick_location'\n",
        "('p_street_city','p_type') VALUES\n",
        "('Inha Street Incheon', 'Hotel'),\n",
        "('Second Street Incheon', 'Hotel'),\n",
        "('Third Street Incheon', 'Hotel'),\n",
        "('Fourth Street Incheon', 'Hotel')\n",
        ";''')"
      ],
      "metadata": {
        "id": "Dda1XhO06GCG"
      },
      "execution_count": 36,
      "outputs": []
    },
    {
      "cell_type": "code",
      "source": [
        "#checking whether the table was created successfully\n",
        "r_set = my_conn.execute('''select name from sqlite_master where type = 'table' ''')\n",
        "for row in r_set:\n",
        "  print(row)"
      ],
      "metadata": {
        "colab": {
          "base_uri": "https://localhost:8080/"
        },
        "id": "07V5eQAI9_P1",
        "outputId": "97eaaf67-ae79-4e27-83ec-f03601164f72"
      },
      "execution_count": 37,
      "outputs": [
        {
          "output_type": "stream",
          "name": "stdout",
          "text": [
            "('drivers',)\n",
            "('language',)\n",
            "('vehicle',)\n",
            "('repair',)\n",
            "('country',)\n",
            "('officials',)\n",
            "('fatl',)\n",
            "('stlvt',)\n",
            "('pick_location',)\n"
          ]
        }
      ]
    },
    {
      "cell_type": "code",
      "source": [
        "#creating a table for entity DROPOFF_LOCATION\n",
        "from sqlalchemy.exc import SQLAlchemyError\n",
        "try:\n",
        "    my_conn.execute('''\n",
        "        CREATE TABLE IF NOT EXISTS dropoff_location(d_street_city text primary key,\n",
        "                      d_type text\n",
        "                      );''')\n",
        "    print(\"drop off location table is created successfully\")\n",
        "except SQLAlchemyError as e:\n",
        "\n",
        "  error = str(e.__dict__['orig'])\n",
        "  print(error)"
      ],
      "metadata": {
        "colab": {
          "base_uri": "https://localhost:8080/"
        },
        "id": "TKUDBdDr-Q6o",
        "outputId": "5e8d0c7d-4557-4c40-82a1-1be1686965e7"
      },
      "execution_count": 59,
      "outputs": [
        {
          "output_type": "stream",
          "name": "stdout",
          "text": [
            "drop off location table is created successfully\n"
          ]
        }
      ]
    },
    {
      "cell_type": "code",
      "source": [
        "#creating a table for entity ORDER\n",
        "from sqlalchemy.exc import SQLAlchemyError\n",
        "try:\n",
        "    my_conn.execute('''\n",
        "        CREATE TABLE IF NOT EXISTS order_(b_reference_number integer primary key,\n",
        "                      pickup_location_street_city text,\n",
        "                      dropoff_location_street_city text\n",
        "                      );''')\n",
        "    print(\"Order  table is created successfully\")\n",
        "except SQLAlchemyError as e:\n",
        "\n",
        "  error = str(e.__dict__['orig'])\n",
        "  print(error)"
      ],
      "metadata": {
        "colab": {
          "base_uri": "https://localhost:8080/"
        },
        "id": "l_utAlBTJck0",
        "outputId": "68296143-87a2-4f85-93d3-c0cf4d042870"
      },
      "execution_count": 53,
      "outputs": [
        {
          "output_type": "stream",
          "name": "stdout",
          "text": [
            "Order  table is created successfully\n"
          ]
        }
      ]
    },
    {
      "cell_type": "code",
      "source": [
        "#inserting data into the ORDER table\n",
        "r_set = my_conn.execute('''INSERT INTO 'order_'\n",
        "('b_reference_number','pickup_location_street_city', 'dropoff_location_street_city') VALUES\n",
        "('12346', 'Inha Street Incheon', 'First Street Incheon'),\n",
        "('12347', 'Second Street Incheon', 'Inha Street Incheon'),\n",
        "('12348', 'Inha Street Incheon', 'Fourth Street Incheon');''')"
      ],
      "metadata": {
        "id": "vT9XgeV9LnVc"
      },
      "execution_count": 63,
      "outputs": []
    },
    {
      "cell_type": "code",
      "source": [
        "#creating a table for entity BOOKING\n",
        "from sqlalchemy.exc import SQLAlchemyError\n",
        "try:\n",
        "    my_conn.execute('''\n",
        "        CREATE TABLE IF NOT EXISTS booking(b_reference_number integer primary key,\n",
        "                      b_start_date_time text,\n",
        "                      b_end_date_time text,\n",
        "                      b_start_odometer integer,\n",
        "                      b_end_odometer integer,\n",
        "                      of_country text,\n",
        "                      of_city_id text,\n",
        "                      d_license integer,\n",
        "                      language_code text,\n",
        "                      order_pickup text,\n",
        "                      order_dropoff text\n",
        "                      );''')\n",
        "    print(\"Booking location table is created successfully\")\n",
        "except SQLAlchemyError as e:\n",
        "\n",
        "  error = str(e.__dict__['orig'])\n",
        "  print(error)"
      ],
      "metadata": {
        "colab": {
          "base_uri": "https://localhost:8080/"
        },
        "id": "6LhYMcLFBh5m",
        "outputId": "60b574ef-a06a-4c19-eaa1-167d3c2628c6"
      },
      "execution_count": 48,
      "outputs": [
        {
          "output_type": "stream",
          "name": "stdout",
          "text": [
            "Booking location table is created successfully\n"
          ]
        }
      ]
    },
    {
      "cell_type": "code",
      "source": [
        "#inserting data into the BOOKING table\n",
        "r_set = my_conn.execute('''INSERT INTO 'booking'\n",
        "('b_reference_number','b_start_date_time', 'b_end_date_time','b_start_odometer','b_end_odometer','of_country','of_city_id','d_license','language_code','order_pickup','order_dropoff') VALUES\n",
        "('12346','2022/10/01 19:27', '2022/10/01 20:00', 2090, 3000, 'Canada', 'Toronto', 111111111111111111, 'ENG', 'Inha Street Incheon', 'First Street Incheon'),\n",
        "('12347','2022/10/03 19:01', '2022/10/01 20:02', 794, 845, 'Korea', 'Incheon', 11111111111111112, 'KR', 'Inha Street Incheon', 'First Street Incheon');''')"
      ],
      "metadata": {
        "id": "niPzuLKrP-sJ"
      },
      "execution_count": 64,
      "outputs": []
    },
    {
      "cell_type": "code",
      "source": [
        "#checking whether the table was created successfully\n",
        "r_set = my_conn.execute('''select name from sqlite_master where type = 'table' ''')\n",
        "for row in r_set:\n",
        "  print(row)"
      ],
      "metadata": {
        "colab": {
          "base_uri": "https://localhost:8080/"
        },
        "id": "-EtVJqGKGr14",
        "outputId": "a7ccdb9f-f9c0-474f-8286-e0f5297b8d32"
      },
      "execution_count": 54,
      "outputs": [
        {
          "output_type": "stream",
          "name": "stdout",
          "text": [
            "('drivers',)\n",
            "('language',)\n",
            "('vehicle',)\n",
            "('repair',)\n",
            "('country',)\n",
            "('officials',)\n",
            "('fatl',)\n",
            "('stlvt',)\n",
            "('pick_location',)\n",
            "('dropoff_location',)\n",
            "('booking',)\n",
            "('order_',)\n"
          ]
        }
      ]
    },
    {
      "cell_type": "code",
      "source": [],
      "metadata": {
        "id": "KC6tzTWQJLoC"
      },
      "execution_count": null,
      "outputs": []
    }
  ]
}